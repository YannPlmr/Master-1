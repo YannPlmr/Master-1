{
 "cells": [
  {
   "cell_type": "markdown",
   "metadata": {},
   "source": [
    "<center>\n",
    "    <h1 style=\"color:red;\">Apprentissage Automatique Numérique</h1>\n",
    "    <h2> TP sur Bayes Naif </h2>\n",
    "    <p> Auteur: Killian MARCHAND </p>\n",
    "</center>\n"
   ]
  },
  {
   "cell_type": "markdown",
   "metadata": {},
   "source": [
    "<h3 style=\"color:green;\"> Importation de librairies</h3>"
   ]
  },
  {
   "cell_type": "code",
   "execution_count": 2,
   "metadata": {},
   "outputs": [],
   "source": [
    "from sklearn import datasets\n",
    "import numpy as np\n",
    "import itertools as it\n",
    "import matplotlib.pyplot as plt\n",
    "from sklearn.metrics import confusion_matrix"
   ]
  },
  {
   "cell_type": "markdown",
   "metadata": {},
   "source": [
    "<h2 style=\"color:blue;\"> Division de l’´echantillon d’apprentissage </h2>\n",
    "\n",
    "<p>\n",
    "Les données ont été mélanger pour assurer une comparaison correcte entre les différents classifieur nous divisons les données en trois\n",
    "parties : apprentissages, dev et test :<br>\n",
    "— Apprentissage : 100 premiers exemples<br>\n",
    "— Dev : 30 exemples suivants<br>\n",
    "— Test : 20 derniers exemples.<br>\n",
    " </p>"
   ]
  },
  {
   "cell_type": "code",
   "execution_count": 3,
   "metadata": {},
   "outputs": [],
   "source": [
    "iris = datasets.load_iris()\n",
    "Ciris = np.c_[iris.data.reshape(len(iris.data), -1), iris.target.reshape(len(iris.target), -1)]\n",
    "\n",
    "np.random.seed(987654321)\n",
    "np.random.shuffle(Ciris)\n",
    "\n",
    "shuffledIrisData = Ciris[ :, :iris.data.size//len(iris.data)].reshape(iris.data.shape)\n",
    "shuffledIrisTarget = Ciris[ :, iris.data.size//len(iris.data) :].reshape(iris.target.shape)"
   ]
  },
  {
   "cell_type": "markdown",
   "metadata": {},
   "source": [
    "<span style=\"color:#3F70A3; font-family:Georgia; font-size:1.3em;\">I. Séparation des classes </span>"
   ]
  },
  {
   "cell_type": "code",
   "execution_count": 4,
   "metadata": {},
   "outputs": [],
   "source": [
    "#Données d'entrainement\n",
    "trainData = shuffledIrisData[:100]\n",
    "trainTarget = shuffledIrisTarget[:100]\n",
    "\n",
    "\n",
    "#Données de developpement\n",
    "devData = shuffledIrisData[100:130]\n",
    "devTarget = shuffledIrisTarget[100:130]\n",
    "\n",
    "\n",
    "#Données de test\n",
    "testData = shuffledIrisData[130:150]\n",
    "testTarget = shuffledIrisTarget[130:150]"
   ]
  },
  {
   "cell_type": "markdown",
   "metadata": {},
   "source": [
    "<h2 style=\"color:blue;\"> Phase d'apprentissage </h2>\n",
    "\n",
    "<p>Il faut estimer deux types de probabilités : <br>\n",
    "— Les probabilités `a priori p(ωi) pour i = {0, 1, 2}.<br>\n",
    "— Les vraisemblances (probabilités conditionnelles) P(x|ωi). On suppose que celles-ci suivent une loi\n",
    "Gaussienne de dimension 2. Il s’agit donc d’obtenir la moyenne µi (vecteur de dimension 2) et la\n",
    "matrice de variance-covariance Σi (matrice de dimension 2 × 2), séparément pour chaque classe\n",
    "ωi\n",
    ". </p>\n",
    "\n",
    "<span style=\"color:#3F70A3; font-family:Georgia; font-size:1.3em;\">I. Estimation des probabilté à priori des 3 classes </span>"
   ]
  },
  {
   "cell_type": "code",
   "execution_count": 5,
   "metadata": {},
   "outputs": [
    {
     "name": "stdout",
     "output_type": "stream",
     "text": [
      "Probabilité des classes\n",
      " [0.32 0.37 0.31]\n"
     ]
    }
   ],
   "source": [
    "# pw1 = ((trainTarget == 0).sum())/len(trainTarget) #Proba de la classe 0\n",
    "# pw2 = ((trainTarget == 1).sum())/len(trainTarget) #Proba de la classe 1\n",
    "# pw3 = ((trainTarget == 2).sum())/len(trainTarget) #Proba de la classe 2\n",
    "aPrio = np.zeros((3,))\n",
    "\n",
    "for i in range(3):\n",
    "    aPrio[i] = ((trainTarget == i).sum())/len(trainTarget)  \n",
    "\n",
    "print(\"Probabilité des classes\\n\", aPrio)"
   ]
  },
  {
   "cell_type": "markdown",
   "metadata": {},
   "source": [
    "<span style=\"color:#3F70A3; font-family:Georgia; font-size:1.3em;\">II. Estimation des moyennes des features en fonction des classes  </span>"
   ]
  },
  {
   "cell_type": "code",
   "execution_count": 6,
   "metadata": {},
   "outputs": [
    {
     "name": "stdout",
     "output_type": "stream",
     "text": [
      "Moyennes des features en fontion de chaques classes\n",
      " [[4.971875   3.40625    1.459375   0.23125   ]\n",
      " [5.82972973 2.75405405 4.16756757 1.28918919]\n",
      " [6.54516129 3.01612903 5.51290323 2.02903226]]\n"
     ]
    }
   ],
   "source": [
    "moyFeatureClass = np.ndarray((3,4)) #Matrice conteanant les moyennes de chaques classes en fonction des features\n",
    "\n",
    "for cls in range(3):\n",
    "    for feat in range(4):\n",
    "        moyFeatureClass[cls][feat] = trainData[trainTarget == cls][:,feat].mean()\n",
    "\n",
    "print(\"Moyennes des features en fontion de chaques classes\\n\", moyFeatureClass)"
   ]
  },
  {
   "cell_type": "markdown",
   "metadata": {},
   "source": [
    "<span style=\"color:#3F70A3; font-family:Georgia; font-size:1.3em;\">III. Calcul des covariances  </span>"
   ]
  },
  {
   "cell_type": "code",
   "execution_count": 7,
   "metadata": {},
   "outputs": [
    {
     "name": "stdout",
     "output_type": "stream",
     "text": [
      "Matrice de covariance\n",
      "\n",
      " {0: array([[0.10264648, 0.07580078, 0.01166992, 0.00494141],\n",
      "       [0.07580078, 0.11808594, 0.01212891, 0.00105469],\n",
      "       [0.01166992, 0.01212891, 0.03741211, 0.00658203],\n",
      "       [0.00494141, 0.00105469, 0.00658203, 0.00902344]]), 1: array([[0.23776479, 0.09271731, 0.16420745, 0.0503214 ],\n",
      "       [0.09271731, 0.09869978, 0.08878013, 0.04463842],\n",
      "       [0.16420745, 0.08878013, 0.19786706, 0.05883857],\n",
      "       [0.0503214 , 0.04463842, 0.05883857, 0.0328561 ]]), 2: array([[0.27667014, 0.08540062, 0.20877211, 0.02578564],\n",
      "       [0.08540062, 0.08780437, 0.07559834, 0.04662851],\n",
      "       [0.20877211, 0.07559834, 0.25080125, 0.02704475],\n",
      "       [0.02578564, 0.04662851, 0.02704475, 0.07044745]])}\n"
     ]
    }
   ],
   "source": [
    "cov_features_class = {}\n",
    "\n",
    "for i in range(3):\n",
    "    cov_features_class[i] = np.cov(np.transpose(trainData[(trainTarget == i)]), ddof=0)\n",
    "\n",
    "print(\"Matrice de covariance\\n\\n\", cov_features_class)"
   ]
  },
  {
   "cell_type": "markdown",
   "metadata": {},
   "source": [
    "<span style=\"color:#3F70A3; font-family:Georgia; font-size:1.3em;\">IV. Application de la densité de probabilité  </span>"
   ]
  },
  {
   "cell_type": "code",
   "execution_count": 8,
   "metadata": {},
   "outputs": [],
   "source": [
    "dimension = 4\n",
    "l = [0,1,2,3]\n",
    "fc= feature_combinaison = list(it.combinations(l,dimension))\n",
    "\n",
    "def calc_pxiwi(dim,x):\n",
    "    sigma = np.ndarray((dim, dim))\n",
    "    xd = np.ndarray((dim,))\n",
    "    mu= np.ndarray((dim,))\n",
    "    \n",
    "    res= [{},{},{}]\n",
    "    \n",
    "    for i in range(3):\n",
    "        for j in range(len(fc)):\n",
    "            for k in range(dim):\n",
    "                mu[k] = moyFeatureClass[i][fc[j][k]]\n",
    "                xd[k] = x[fc[j][k]]\n",
    "                for k2 in range(dim):\n",
    "                    sigma[k][k2] = cov_features_class[i][fc[j][k]][fc[j][k2]]\n",
    "            res[i][fc[j]]= ( 1 / ((2*np.pi) ** (dim/2)) * (np.linalg.det(sigma)**(1/2))) * np.exp((-1/2) * np.transpose(xd-mu).dot(np.linalg.inv(sigma)).dot(xd-mu))\n",
    "                    \n",
    "    return res"
   ]
  },
  {
   "cell_type": "markdown",
   "metadata": {},
   "source": [
    "<h2 style=\"color:blue;\">Phase de Developpement</h2>\n",
    "\n",
    "<p>\n",
    "On traite séquentiellement tous les exemples du corpus de développement. Pour chaque exemple on\n",
    "calcule la probabilité a posteriori P(ωi|x) = P(x|ωi)p(ωi) avec les paramètres déterminés lors de la\n",
    "phase d’apprentissage, et ceci pour toutes les 3 classes i = 0..9. La classe pour laquelle la probabilité\n",
    "a posteriori est maximum est la classe reconnue. Puisque vous connaissez la bonne classe pour chaque\n",
    "exemple du corpus de développement, vous pouvez compter le nombre d’erreurs.\n",
    "</p>"
   ]
  },
  {
   "cell_type": "code",
   "execution_count": 9,
   "metadata": {},
   "outputs": [],
   "source": [
    "#Calcul des pxiwi pour chaque tuple de feature\n",
    "\n",
    "postprio = np.ndarray((len(devData),3,len(fc)))\n",
    "\n",
    "for i in range(len(devData)):\n",
    "    pxiwi = calc_pxiwi(dimension, devData[i])\n",
    "    \n",
    "    for tuple in range (len(fc)):\n",
    "        for j in range(3):\n",
    "            postprio[i][j][tuple] = pxiwi[j][fc[tuple]]*aPrio[j]\n"
   ]
  },
  {
   "cell_type": "code",
   "execution_count": 10,
   "metadata": {
    "scrolled": true
   },
   "outputs": [
    {
     "name": "stdout",
     "output_type": "stream",
     "text": [
      "Estimation:  2 Target:  2.0\n",
      "Estimation:  2 Target:  2.0\n",
      "Estimation:  0 Target:  0.0\n",
      "Estimation:  0 Target:  0.0\n",
      "Estimation:  1 Target:  1.0\n",
      "Estimation:  2 Target:  1.0\n",
      "Estimation:  0 Target:  0.0\n",
      "Estimation:  0 Target:  0.0\n",
      "Estimation:  2 Target:  1.0\n",
      "Estimation:  2 Target:  2.0\n",
      "Estimation:  2 Target:  2.0\n",
      "Estimation:  0 Target:  0.0\n",
      "Estimation:  2 Target:  1.0\n",
      "Estimation:  2 Target:  2.0\n",
      "Estimation:  0 Target:  0.0\n",
      "Estimation:  0 Target:  0.0\n",
      "Estimation:  2 Target:  2.0\n",
      "Estimation:  0 Target:  0.0\n",
      "Estimation:  1 Target:  1.0\n",
      "Estimation:  1 Target:  1.0\n",
      "Estimation:  0 Target:  0.0\n",
      "Estimation:  2 Target:  2.0\n",
      "Estimation:  0 Target:  0.0\n",
      "Estimation:  0 Target:  0.0\n",
      "Estimation:  1 Target:  1.0\n",
      "Estimation:  2 Target:  2.0\n",
      "Estimation:  2 Target:  2.0\n",
      "Estimation:  0 Target:  0.0\n",
      "Estimation:  2 Target:  2.0\n",
      "Estimation:  2 Target:  2.0\n",
      "Features:  (0, 1, 2, 3) Erreur:  3.0 \n",
      "\n",
      "\n"
     ]
    }
   ],
   "source": [
    "bayes = np.argmax(postprio, axis=1)\n",
    "err = np.zeros(len(fc))\n",
    "\n",
    "for i in range(len(fc)):\n",
    "    for j in range(len(devData)):\n",
    "        print(\"Estimation: \", bayes[:,i][j], \"Target: \", devTarget[j])\n",
    "        if bayes[:,i][j] != devTarget[j]:\n",
    "            err[i] += 1\n",
    "    print(\"Features: \", fc[i], \"Erreur: \", err[i], \"\\n\\n\")\n",
    "    \n"
   ]
  },
  {
   "cell_type": "code",
   "execution_count": 11,
   "metadata": {},
   "outputs": [
    {
     "name": "stdout",
     "output_type": "stream",
     "text": [
      "Meilleur tuple:  (0, 1, 2, 3)\n"
     ]
    }
   ],
   "source": [
    "print(\"Meilleur tuple: \", fc[np.argmin(err)])"
   ]
  },
  {
   "cell_type": "markdown",
   "metadata": {},
   "source": [
    "<h2 style=\"color:blue;\">Phase d'Evaluation</h2>\n",
    "\n",
    "<p>\n",
    "Vous utiliserez votre meilleur système pour classer tous les exemples du corpus de Test de la même\n",
    "manière que ci-dessus. Les résultats calculés sur le corpus de Test ne doivent pas être utilisés pour\n",
    "déterminer votre meilleur système.\n",
    "</p>"
   ]
  },
  {
   "cell_type": "code",
   "execution_count": 16,
   "metadata": {},
   "outputs": [
    {
     "name": "stdout",
     "output_type": "stream",
     "text": [
      "Estimation:  2 Target:  2.0\n",
      "Estimation:  2 Target:  2.0\n",
      "Estimation:  1 Target:  0.0\n",
      "Estimation:  2 Target:  0.0\n",
      "Estimation:  0 Target:  1.0\n",
      "Estimation:  2 Target:  1.0\n",
      "Estimation:  1 Target:  0.0\n",
      "Estimation:  2 Target:  0.0\n",
      "Estimation:  0 Target:  1.0\n",
      "Estimation:  2 Target:  2.0\n",
      "Estimation:  1 Target:  2.0\n",
      "Estimation:  2 Target:  0.0\n",
      "Estimation:  0 Target:  1.0\n",
      "Estimation:  0 Target:  2.0\n",
      "Estimation:  1 Target:  0.0\n",
      "Estimation:  0 Target:  0.0\n",
      "Estimation:  1 Target:  2.0\n",
      "Estimation:  2 Target:  0.0\n",
      "Estimation:  2 Target:  1.0\n",
      "Estimation:  0 Target:  1.0\n",
      "Erreur:  16\n"
     ]
    }
   ],
   "source": [
    "postpriori = np.ndarray((len(testData),3,len(fc)))\n",
    "for i in range(len(testData)):\n",
    "    pxiwi = calc_pxiwi(dimension, testData[i])\n",
    "    for j in range(3):\n",
    "        postpriori[i][j] = pxiwi[j][fc[np.argmin(err)]]*aPrio[j]\n",
    "\n",
    "bayes = np.argmax(postpriori, axis=1)\n",
    "\n",
    "err1 = 0\n",
    "for i in range(len(testData)):\n",
    "    print(\"Estimation: \", bayes[:,fc.index(fc[np.argmin(err)])][i], \"Target: \", devTarget[i])\n",
    "    if bayes[:,fc.index(fc[np.argmin(err)])][i] != devTarget[i]:\n",
    "        err1 +=1\n",
    "print(\"Erreur: \", err1)"
   ]
  },
  {
   "cell_type": "markdown",
   "metadata": {},
   "source": [
    "<h2 style=\"color:blue;\">Courbe sur les données d'entrainement</h2>"
   ]
  },
  {
   "cell_type": "code",
   "execution_count": 17,
   "metadata": {
    "scrolled": true
   },
   "outputs": [
    {
     "data": {
      "image/png": "[encoded data removed]",
      "text/plain": [
       "<Figure size 432x288 with 1 Axes>"
      ]
     },
     "metadata": {
      "needs_background": "light"
     },
     "output_type": "display_data"
    }
   ],
   "source": [
    "x = trainData[:,2]\n",
    "y = trainData[:,0]\n",
    "\n",
    "plt.scatter(x[(trainTarget == 0)],y[(trainTarget == 0)], c=\"blue\")\n",
    "plt.scatter(x[(trainTarget == 1)],y[(trainTarget == 1)], c=\"red\")\n",
    "plt.scatter(x[(trainTarget == 2)],y[(trainTarget == 2)], c=\"green\")\n",
    "\n",
    "plt.title(\"\")\n",
    "plt.xlabel(\"x\")\n",
    "plt.ylabel(\"y\")\n",
    "\n",
    "plt.show()"
   ]
  },
  {
   "cell_type": "markdown",
   "metadata": {},
   "source": [
    "<h2 style=\"color:blue;\">Courbe sur les données d'évaluations</h2>"
   ]
  },
  {
   "cell_type": "code",
   "execution_count": 18,
   "metadata": {
    "scrolled": true
   },
   "outputs": [
    {
     "data": {
      "image/png": "[encoded data removed]",
      "text/plain": [
       "<Figure size 432x288 with 1 Axes>"
      ]
     },
     "metadata": {
      "needs_background": "light"
     },
     "output_type": "display_data"
    }
   ],
   "source": [
    "x = testData[:,2]\n",
    "y = testData[:,0]\n",
    "\n",
    "plt.scatter(x[(testTarget == 0)],y[(testTarget == 0)], c=\"blue\")\n",
    "plt.scatter(x[(testTarget == 1)],y[(testTarget == 1)], c=\"red\")\n",
    "plt.scatter(x[(testTarget == 2)],y[(testTarget == 2)], c=\"green\")\n",
    "\n",
    "plt.title(\"\")\n",
    "plt.xlabel(\"x\")\n",
    "plt.ylabel(\"y\")\n",
    "\n",
    "plt.show()"
   ]
  },
  {
   "cell_type": "markdown",
   "metadata": {},
   "source": [
    "<p>\n",
    "    A partir des deux courbes affichées juste au dessus, nous pouvons remarquer et déterminer les frontières de décision entre les différentes classes.\n",
    "</p>"
   ]
  },
  {
   "cell_type": "markdown",
   "metadata": {},
   "source": [
    "<h2 style=\"color:blue;\">Matrice de confusion</h2>"
   ]
  },
  {
   "cell_type": "code",
   "execution_count": 21,
   "metadata": {},
   "outputs": [
    {
     "name": "stdout",
     "output_type": "stream",
     "text": [
      "[[6 0 0]\n",
      " [0 5 1]\n",
      " [0 0 8]]\n"
     ]
    }
   ],
   "source": [
    "c_matrix = confusion_matrix(testTarget, bayes[:,fc.index(fc[np.argmin(err)])], labels = [0,1,2])\n",
    "print(c_matrix)"
   ]
  },
  {
   "cell_type": "code",
   "execution_count": null,
   "metadata": {},
   "outputs": [],
   "source": []
  }
 ],
 "metadata": {
  "kernelspec": {
   "display_name": "Python 3",
   "language": "python",
   "name": "python3"
  },
  "language_info": {
   "codemirror_mode": {
    "name": "ipython",
    "version": 3
   },
   "file_extension": ".py",
   "mimetype": "text/x-python",
   "name": "python",
   "nbconvert_exporter": "python",
   "pygments_lexer": "ipython3",
   "version": "3.7.4"
  }
 },
 "nbformat": 4,
 "nbformat_minor": 2
}
